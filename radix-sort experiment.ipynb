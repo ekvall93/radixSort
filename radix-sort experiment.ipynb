{
 "cells": [
  {
   "cell_type": "code",
   "execution_count": 114,
   "metadata": {},
   "outputs": [],
   "source": [
    "%matplotlib inline\n",
    "\n",
    "import matplotlib\n",
    "import numpy as np\n",
    "import matplotlib.pyplot as plt\n",
    "\n",
    "import numpy as np\n",
    "import time\n"
   ]
  },
  {
   "cell_type": "code",
   "execution_count": 115,
   "metadata": {},
   "outputs": [],
   "source": [
    "matplotlib.rcParams['text.usetex'] = True\n"
   ]
  },
  {
   "cell_type": "code",
   "execution_count": 116,
   "metadata": {},
   "outputs": [],
   "source": [
    "#!/usr/bin/python\n",
    "import time\n",
    "\n",
    "# Function that takes a list and sorts using radix sort implementation\n",
    "def radixsort(toBeSorted, r=10):\n",
    "\n",
    "    digit = 1\n",
    "    atTheEnd = False\n",
    "\n",
    "\n",
    "    while not atTheEnd:\n",
    "        # Only remains true if we are calculating for the highest significant digit.\n",
    "        atTheEnd = True\n",
    "\n",
    "        # Initialize the bins which are a series of lists\n",
    "        bins = [list() for _ in range(r)]\n",
    "\n",
    "        # Place items inside toBeSorted buffer into their respective bins\n",
    "        for i in toBeSorted:\n",
    "            temp = i / digit\n",
    "            bins[int(temp % int(r))].append(i)\n",
    "            if temp > 0:\n",
    "                atTheEnd = False\n",
    "\n",
    "        # Put the items in the bins back into the toBeSorted buffer\n",
    "        toBeSortedIndex = 0\n",
    "        for i in range(r): # Goes through each bin\n",
    "            bin = bins[i]\n",
    "            for j in bin: # Goes through each element in a given bin\n",
    "                toBeSorted[toBeSortedIndex] = j\n",
    "                toBeSortedIndex = toBeSortedIndex + 1\n",
    "\n",
    "        # Increment to sort by the next digit\n",
    "        digit = digit * r\n",
    "        \n",
    "    return toBeSorted\n",
    "\n"
   ]
  },
  {
   "cell_type": "code",
   "execution_count": 117,
   "metadata": {},
   "outputs": [],
   "source": [
    "# Python program for implementation of MergeSort \n",
    "def mergeSort(arr): \n",
    "    if len(arr) >1: \n",
    "        mid = len(arr)//2 #Finding the mid of the array \n",
    "        L = arr[:mid] # Dividing the array elements  \n",
    "        R = arr[mid:] # into 2 halves \n",
    "  \n",
    "        mergeSort(L) # Sorting the first half \n",
    "        mergeSort(R) # Sorting the second half \n",
    "  \n",
    "        i = j = k = 0\n",
    "          \n",
    "        # Copy data to temp arrays L[] and R[] \n",
    "        while i < len(L) and j < len(R): \n",
    "            if L[i] < R[j]: \n",
    "                arr[k] = L[i] \n",
    "                i+=1\n",
    "            else: \n",
    "                arr[k] = R[j] \n",
    "                j+=1\n",
    "            k+=1\n",
    "          \n",
    "        # Checking if any element was left \n",
    "        while i < len(L): \n",
    "            arr[k] = L[i] \n",
    "            i+=1\n",
    "            k+=1\n",
    "          \n",
    "        while j < len(R): \n",
    "            arr[k] = R[j] \n",
    "            j+=1\n",
    "            k+=1"
   ]
  },
  {
   "cell_type": "code",
   "execution_count": 118,
   "metadata": {},
   "outputs": [],
   "source": [
    "def timeIt(N, large_b=False, merge=False):\n",
    "    timeList = list()\n",
    "    for n in N:\n",
    "\n",
    "        arr = [np.random.randint(0, n) for _ in range(n)]\n",
    "        arr.append(n)\n",
    "        \n",
    "        start = time.time()\n",
    "        \n",
    "        if merge:\n",
    "            mergeSort(arr)\n",
    "        else:\n",
    "            if large_b:\n",
    "                radixsort(arr, int(max(N)))\n",
    "            else:\n",
    "                radixsort(arr,2)\n",
    "            \n",
    "        end = time.time()\n",
    "    \n",
    "        dt = end - start\n",
    "        timeList.append(dt)\n",
    "        \n",
    "    return timeList\n"
   ]
  },
  {
   "cell_type": "markdown",
   "metadata": {},
   "source": [
    "## If a list $L=|n|$ contains values in the range $1,2,3,\\ldots,n^{c}$, then the runtime of radix sort is $O(d(n+b))$. Here the maximum key $k$ in $L$ is atleast $k\\leq n^{c}$. Hence, the maximum possible value that digit $d$ can take is $d=log_{b}(k)=log_{b}(n^{c})$. If $c$ is a constant, then the runtime is $O(n * log_{b}(n))$. Unfortunately, if $b<n$ , this is the same timecomplexity as in the other comparision-sort methods. However, if it's possible to set $b>=n$ (more memory has to be allocated to the sub-routine counting sort since larger list is required), then $O(n)$."
   ]
  },
  {
   "cell_type": "code",
   "execution_count": 131,
   "metadata": {},
   "outputs": [],
   "source": [
    "N =list(np.arange(10,60))"
   ]
  },
  {
   "cell_type": "code",
   "execution_count": 132,
   "metadata": {},
   "outputs": [],
   "source": [
    "TIME1 =list()\n",
    "for _ in range(50):\n",
    "    TIME1.append(timeIt(N))"
   ]
  },
  {
   "cell_type": "code",
   "execution_count": 133,
   "metadata": {},
   "outputs": [],
   "source": [
    "TIME2 =list()\n",
    "for _ in range(50):\n",
    "    TIME2.append(timeIt(N,large_b=True))"
   ]
  },
  {
   "cell_type": "markdown",
   "metadata": {},
   "source": [
    "# Let's see the runtime difference between the conditions $b<n$ and $n \\leq b$"
   ]
  },
  {
   "cell_type": "code",
   "execution_count": 139,
   "metadata": {},
   "outputs": [
    {
     "data": {
      "image/png": "[encoded data removed]",
      "text/plain": [
       "<Figure size 432x288 with 1 Axes>"
      ]
     },
     "metadata": {
      "needs_background": "light"
     },
     "output_type": "display_data"
    }
   ],
   "source": [
    "plt.plot(N, np.mean(TIME1,0), \"r\", label=r'$O(nlg(n))$ ($b<n$)', linewidth=2)\n",
    "plt.plot(N, np.mean(TIME2,0), \"b\", label=r'$O(n)$ ($n \\leq b$)')\n",
    "plt.legend(loc='best', fontsize=15)\n",
    "\n",
    "plt.show()"
   ]
  },
  {
   "cell_type": "markdown",
   "metadata": {},
   "source": [
    "# Let's check runtime for merge-sort"
   ]
  },
  {
   "cell_type": "code",
   "execution_count": 135,
   "metadata": {},
   "outputs": [],
   "source": [
    "TIME3 =list()\n",
    "for _ in range(20):\n",
    "    TIME3.append(timeIt(N,var_b=True,merge=True))"
   ]
  },
  {
   "cell_type": "code",
   "execution_count": 136,
   "metadata": {},
   "outputs": [
    {
     "data": {
      "text/plain": [
       "[<matplotlib.lines.Line2D at 0x7ff37095d5f8>]"
      ]
     },
     "execution_count": 136,
     "metadata": {},
     "output_type": "execute_result"
    },
    {
     "data": {
      "image/png": "[encoded data removed]",
      "text/plain": [
       "<Figure size 432x288 with 1 Axes>"
      ]
     },
     "metadata": {
      "needs_background": "light"
     },
     "output_type": "display_data"
    }
   ],
   "source": [
    "plt.plot(N, np.mean(TIME3,0), \"r\", label=r'$O(nlg(n))$', linewidth=2)"
   ]
  }
 ],
 "metadata": {
  "kernelspec": {
   "display_name": "Python 3",
   "language": "python",
   "name": "python3"
  },
  "language_info": {
   "codemirror_mode": {
    "name": "ipython",
    "version": 3
   },
   "file_extension": ".py",
   "mimetype": "text/x-python",
   "name": "python",
   "nbconvert_exporter": "python",
   "pygments_lexer": "ipython3",
   "version": "3.6.9"
  }
 },
 "nbformat": 4,
 "nbformat_minor": 2
}

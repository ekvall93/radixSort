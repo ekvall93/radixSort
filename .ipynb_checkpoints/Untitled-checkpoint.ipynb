{
 "cells": [
  {
   "cell_type": "code",
   "execution_count": 1,
   "metadata": {},
   "outputs": [],
   "source": [
    "%matplotlib inline\n",
    "\n",
    "import matplotlib\n",
    "import numpy as np\n",
    "import matplotlib.pyplot as plt\n",
    "\n",
    "import numpy as np\n",
    "import time\n"
   ]
  },
  {
   "cell_type": "code",
   "execution_count": 105,
   "metadata": {},
   "outputs": [],
   "source": [
    "matplotlib.rcParams['text.usetex'] = True\n"
   ]
  },
  {
   "cell_type": "code",
   "execution_count": 59,
   "metadata": {},
   "outputs": [],
   "source": [
    "def countingSort(arr, exp1, b=2): \n",
    "  \n",
    "    n = len(arr) \n",
    "  \n",
    "    # The output array elements that will have sorted arr \n",
    "    output = [0] * (n) \n",
    "  \n",
    "    # initialize count array as 0 \n",
    "    count = [0] * (b) \n",
    "    \n",
    "\n",
    "  \n",
    "    # Store count of occurrences in count[] \n",
    "    for i in range(0, n): \n",
    "        index = (arr[i]/exp1) \n",
    "        \n",
    "        #print(b,index)\n",
    "\n",
    "        count[ int((index)%b) ] += 1\n",
    "  \n",
    "    # Change count[i] so that count[i] now contains actual \n",
    "    #  position of this digit in output array \n",
    "    for i in range(1,b): \n",
    "        count[i] += count[i-1] \n",
    "  \n",
    "    # Build the output array \n",
    "    i = n-1\n",
    "    while i>=0: \n",
    "        index = (arr[i]/exp1) \n",
    "        output[ count[ int((index)%b) ] - 1] = arr[i] \n",
    "        \n",
    "        count[ int((index)%b) ] -= 1\n",
    "        i -= 1\n",
    "  \n",
    "    # Copying the output array to arr[], \n",
    "    # so that arr now contains sorted numbers \n",
    "    i = 0\n",
    "    for i in range(0,len(arr)): \n",
    "        arr[i] = output[i] "
   ]
  },
  {
   "cell_type": "code",
   "execution_count": 60,
   "metadata": {},
   "outputs": [],
   "source": [
    "# Method to do Radix Sort \n",
    "def radixSort(arr, b=2): \n",
    "  \n",
    "    # Find the maximum number to know number of digits \n",
    "    max1 = max(arr) \n",
    "  \n",
    "    # Do counting sort for every digit. Note that instead \n",
    "    # of passing digit number, exp is passed. exp is 10^i \n",
    "    # where i is current digit number \n",
    "    exp = 1\n",
    "    while max1/exp > 0: \n",
    "        countingSort(arr,exp, b) \n",
    "        exp *= b\n"
   ]
  },
  {
   "cell_type": "code",
   "execution_count": 249,
   "metadata": {},
   "outputs": [],
   "source": [
    "def timeIt(N, exp=False, var_b=False):\n",
    "    timeList = list()\n",
    "    for n in N:\n",
    "        if exp:\n",
    "            arr = [np.random.randint(0, n**int(n)) for _ in range(int(n))]\n",
    "            arr.append(n**int(n))\n",
    "        else:\n",
    "            arr = [np.random.randint(0, n) for _ in range(n)]\n",
    "            arr.append(n)\n",
    "        \n",
    "        start = time.time()\n",
    "        if var_b:\n",
    "            radixSort(arr,int(n) )\n",
    "        else:\n",
    "            radixSort(arr, 2) \n",
    "            \n",
    "        end = time.time()\n",
    "    \n",
    "        dt = end - start\n",
    "        timeList.append(dt)\n",
    "        \n",
    "    return timeList\n"
   ]
  },
  {
   "cell_type": "markdown",
   "metadata": {},
   "source": [
    "## If a list $L=|n|$ contains values in the range $1,2,3,\\ldots,n^{c}$ the runtime of radix sort is $O(d(n+b))$. The maximum key $k$ in $L$ is atleast $k\\leq n^{c}$. Assume that $d=log_{b}(n)$, and that b is an constant, say 10, then $O(n * log_{b}(n))$. Unfortunately this is the same timecomplexity as in the other comparision-sort methods. However, if it's possible to set $b=n$ (more memory has to be allocated to the sub-routine counting sort), then $O(n)$."
   ]
  },
  {
   "cell_type": "code",
   "execution_count": 242,
   "metadata": {},
   "outputs": [],
   "source": [
    "N =list(np.arange(2,40))"
   ]
  },
  {
   "cell_type": "code",
   "execution_count": 243,
   "metadata": {},
   "outputs": [],
   "source": [
    "TIME1 =list()\n",
    "for _ in range(20):\n",
    "    TIME1.append(timeIt(N))"
   ]
  },
  {
   "cell_type": "code",
   "execution_count": 244,
   "metadata": {},
   "outputs": [],
   "source": [
    "TIME2 =list()\n",
    "for _ in range(20):\n",
    "    TIME2.append(timeIt(N,var_b=True))"
   ]
  },
  {
   "cell_type": "code",
   "execution_count": 245,
   "metadata": {},
   "outputs": [
    {
     "data": {
      "image/png": "[encoded data removed]",
      "text/plain": [
       "<Figure size 432x288 with 1 Axes>"
      ]
     },
     "metadata": {
      "needs_background": "light"
     },
     "output_type": "display_data"
    }
   ],
   "source": [
    "plt.plot(N, np.mean(TIME1,0), \"r\", label=r'$O(nlg(n))$', linewidth=2)\n",
    "plt.plot(N, np.mean(TIME2,0), \"b\", label=r'$O(n)$')\n",
    "plt.legend(loc='best', fontsize=15)\n",
    "\n",
    "plt.show()"
   ]
  },
  {
   "cell_type": "code",
   "execution_count": null,
   "metadata": {},
   "outputs": [],
   "source": []
  }
 ],
 "metadata": {
  "kernelspec": {
   "display_name": "Python 3",
   "language": "python",
   "name": "python3"
  },
  "language_info": {
   "codemirror_mode": {
    "name": "ipython",
    "version": 3
   },
   "file_extension": ".py",
   "mimetype": "text/x-python",
   "name": "python",
   "nbconvert_exporter": "python",
   "pygments_lexer": "ipython3",
   "version": "3.6.9"
  }
 },
 "nbformat": 4,
 "nbformat_minor": 2
}

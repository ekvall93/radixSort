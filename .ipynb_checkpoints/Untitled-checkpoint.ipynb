{
 "cells": [
  {
   "cell_type": "code",
   "execution_count": 25,
   "metadata": {},
   "outputs": [],
   "source": [
    "%matplotlib inline\n",
    "\n",
    "import matplotlib\n",
    "import numpy as np\n",
    "import matplotlib.pyplot as plt\n",
    "\n",
    "import numpy as np\n",
    "import time\n"
   ]
  },
  {
   "cell_type": "code",
   "execution_count": 11,
   "metadata": {},
   "outputs": [],
   "source": [
    "def countingSort(arr, exp1): \n",
    "  \n",
    "    n = len(arr) \n",
    "  \n",
    "    # The output array elements that will have sorted arr \n",
    "    output = [0] * (n) \n",
    "  \n",
    "    # initialize count array as 0 \n",
    "    count = [0] * (10) \n",
    "  \n",
    "    # Store count of occurrences in count[] \n",
    "    for i in range(0, n): \n",
    "        index = (arr[i]/exp1) \n",
    "        \n",
    "\n",
    "        count[ int((index)%10) ] += 1\n",
    "  \n",
    "    # Change count[i] so that count[i] now contains actual \n",
    "    #  position of this digit in output array \n",
    "    for i in range(1,10): \n",
    "        count[i] += count[i-1] \n",
    "  \n",
    "    # Build the output array \n",
    "    i = n-1\n",
    "    while i>=0: \n",
    "        index = (arr[i]/exp1) \n",
    "        output[ count[ int((index)%10) ] - 1] = arr[i] \n",
    "        \n",
    "        count[ int((index)%10) ] -= 1\n",
    "        i -= 1\n",
    "  \n",
    "    # Copying the output array to arr[], \n",
    "    # so that arr now contains sorted numbers \n",
    "    i = 0\n",
    "    for i in range(0,len(arr)): \n",
    "        arr[i] = output[i] "
   ]
  },
  {
   "cell_type": "code",
   "execution_count": 12,
   "metadata": {},
   "outputs": [],
   "source": [
    "# Method to do Radix Sort \n",
    "def radixSort(arr): \n",
    "  \n",
    "    # Find the maximum number to know number of digits \n",
    "    max1 = max(arr) \n",
    "  \n",
    "    # Do counting sort for every digit. Note that instead \n",
    "    # of passing digit number, exp is passed. exp is 10^i \n",
    "    # where i is current digit number \n",
    "    exp = 1\n",
    "    while max1/exp > 0: \n",
    "        countingSort(arr,exp) \n",
    "        exp *= 10\n"
   ]
  },
  {
   "cell_type": "code",
   "execution_count": 13,
   "metadata": {},
   "outputs": [
    {
     "name": "stdout",
     "output_type": "stream",
     "text": [
      "2\n",
      "24\n",
      "45\n",
      "66\n",
      "75\n",
      "90\n",
      "170\n",
      "802\n"
     ]
    }
   ],
   "source": [
    "\n",
    "  \n",
    "# Driver code to test above \n",
    "arr = [ 170, 45, 75, 90, 802, 24, 2, 66] \n",
    "radixSort(arr) \n",
    "  \n",
    "for i in range(len(arr)): \n",
    "    print(arr[i]), \n",
    "  \n"
   ]
  },
  {
   "cell_type": "code",
   "execution_count": null,
   "metadata": {},
   "outputs": [],
   "source": []
  },
  {
   "cell_type": "code",
   "execution_count": 87,
   "metadata": {},
   "outputs": [],
   "source": [
    "N = [3,5,10,15,20]"
   ]
  },
  {
   "cell_type": "code",
   "execution_count": 88,
   "metadata": {},
   "outputs": [],
   "source": [
    "def timeIt(N, exp=False):\n",
    "    timeList = list()\n",
    "    for n in N:\n",
    "        if exp:\n",
    "            arr = [np.random.randint(0, 10**n) for _ in range(n)]\n",
    "        else:\n",
    "            arr = [np.random.randint(0, n) for _ in range(n)]\n",
    "        arr.append(n**exp)\n",
    "        start = time.time()\n",
    "        radixsort(arr) \n",
    "        end = time.time()\n",
    "    \n",
    "        dt = end - start\n",
    "        timeList.append(dt)\n",
    "        \n",
    "    return timeList\n"
   ]
  },
  {
   "cell_type": "code",
   "execution_count": 89,
   "metadata": {},
   "outputs": [
    {
     "data": {
      "text/plain": [
       "[<matplotlib.lines.Line2D at 0x11757a610>]"
      ]
     },
     "execution_count": 89,
     "metadata": {},
     "output_type": "execute_result"
    },
    {
     "data": {
      "image/png": "[encoded data removed]",
      "text/plain": [
       "<Figure size 432x288 with 1 Axes>"
      ]
     },
     "metadata": {
      "needs_background": "light"
     },
     "output_type": "display_data"
    }
   ],
   "source": [
    "plt.plot(N, timeIt(N))"
   ]
  },
  {
   "cell_type": "code",
   "execution_count": 90,
   "metadata": {},
   "outputs": [
    {
     "ename": "ValueError",
     "evalue": "high is out of bounds for int64",
     "output_type": "error",
     "traceback": [
      "\u001b[0;31m---------------------------------------------------------------------------\u001b[0m",
      "\u001b[0;31mValueError\u001b[0m                                Traceback (most recent call last)",
      "\u001b[0;32m<ipython-input-90-37c1edb1e0df>\u001b[0m in \u001b[0;36m<module>\u001b[0;34m\u001b[0m\n\u001b[0;32m----> 1\u001b[0;31m \u001b[0mplt\u001b[0m\u001b[0;34m.\u001b[0m\u001b[0mplot\u001b[0m\u001b[0;34m(\u001b[0m\u001b[0mN\u001b[0m\u001b[0;34m,\u001b[0m \u001b[0mtimeIt\u001b[0m\u001b[0;34m(\u001b[0m\u001b[0mN\u001b[0m\u001b[0;34m,\u001b[0m\u001b[0;36m2\u001b[0m\u001b[0;34m)\u001b[0m\u001b[0;34m)\u001b[0m\u001b[0;34m\u001b[0m\u001b[0;34m\u001b[0m\u001b[0m\n\u001b[0m",
      "\u001b[0;32m<ipython-input-88-42d68999d0a0>\u001b[0m in \u001b[0;36mtimeIt\u001b[0;34m(N, exp)\u001b[0m\n\u001b[1;32m      3\u001b[0m     \u001b[0;32mfor\u001b[0m \u001b[0mn\u001b[0m \u001b[0;32min\u001b[0m \u001b[0mN\u001b[0m\u001b[0;34m:\u001b[0m\u001b[0;34m\u001b[0m\u001b[0;34m\u001b[0m\u001b[0m\n\u001b[1;32m      4\u001b[0m         \u001b[0;32mif\u001b[0m \u001b[0mexp\u001b[0m\u001b[0;34m:\u001b[0m\u001b[0;34m\u001b[0m\u001b[0;34m\u001b[0m\u001b[0m\n\u001b[0;32m----> 5\u001b[0;31m             \u001b[0marr\u001b[0m \u001b[0;34m=\u001b[0m \u001b[0;34m[\u001b[0m\u001b[0mnp\u001b[0m\u001b[0;34m.\u001b[0m\u001b[0mrandom\u001b[0m\u001b[0;34m.\u001b[0m\u001b[0mrandint\u001b[0m\u001b[0;34m(\u001b[0m\u001b[0;36m0\u001b[0m\u001b[0;34m,\u001b[0m \u001b[0;36m10\u001b[0m\u001b[0;34m**\u001b[0m\u001b[0mn\u001b[0m\u001b[0;34m)\u001b[0m \u001b[0;32mfor\u001b[0m \u001b[0m_\u001b[0m \u001b[0;32min\u001b[0m \u001b[0mrange\u001b[0m\u001b[0;34m(\u001b[0m\u001b[0mn\u001b[0m\u001b[0;34m)\u001b[0m\u001b[0;34m]\u001b[0m\u001b[0;34m\u001b[0m\u001b[0;34m\u001b[0m\u001b[0m\n\u001b[0m\u001b[1;32m      6\u001b[0m         \u001b[0;32melse\u001b[0m\u001b[0;34m:\u001b[0m\u001b[0;34m\u001b[0m\u001b[0;34m\u001b[0m\u001b[0m\n\u001b[1;32m      7\u001b[0m             \u001b[0marr\u001b[0m \u001b[0;34m=\u001b[0m \u001b[0;34m[\u001b[0m\u001b[0mnp\u001b[0m\u001b[0;34m.\u001b[0m\u001b[0mrandom\u001b[0m\u001b[0;34m.\u001b[0m\u001b[0mrandint\u001b[0m\u001b[0;34m(\u001b[0m\u001b[0;36m0\u001b[0m\u001b[0;34m,\u001b[0m \u001b[0mn\u001b[0m\u001b[0;34m)\u001b[0m \u001b[0;32mfor\u001b[0m \u001b[0m_\u001b[0m \u001b[0;32min\u001b[0m \u001b[0mrange\u001b[0m\u001b[0;34m(\u001b[0m\u001b[0mn\u001b[0m\u001b[0;34m)\u001b[0m\u001b[0;34m]\u001b[0m\u001b[0;34m\u001b[0m\u001b[0;34m\u001b[0m\u001b[0m\n",
      "\u001b[0;32m<ipython-input-88-42d68999d0a0>\u001b[0m in \u001b[0;36m<listcomp>\u001b[0;34m(.0)\u001b[0m\n\u001b[1;32m      3\u001b[0m     \u001b[0;32mfor\u001b[0m \u001b[0mn\u001b[0m \u001b[0;32min\u001b[0m \u001b[0mN\u001b[0m\u001b[0;34m:\u001b[0m\u001b[0;34m\u001b[0m\u001b[0;34m\u001b[0m\u001b[0m\n\u001b[1;32m      4\u001b[0m         \u001b[0;32mif\u001b[0m \u001b[0mexp\u001b[0m\u001b[0;34m:\u001b[0m\u001b[0;34m\u001b[0m\u001b[0;34m\u001b[0m\u001b[0m\n\u001b[0;32m----> 5\u001b[0;31m             \u001b[0marr\u001b[0m \u001b[0;34m=\u001b[0m \u001b[0;34m[\u001b[0m\u001b[0mnp\u001b[0m\u001b[0;34m.\u001b[0m\u001b[0mrandom\u001b[0m\u001b[0;34m.\u001b[0m\u001b[0mrandint\u001b[0m\u001b[0;34m(\u001b[0m\u001b[0;36m0\u001b[0m\u001b[0;34m,\u001b[0m \u001b[0;36m10\u001b[0m\u001b[0;34m**\u001b[0m\u001b[0mn\u001b[0m\u001b[0;34m)\u001b[0m \u001b[0;32mfor\u001b[0m \u001b[0m_\u001b[0m \u001b[0;32min\u001b[0m \u001b[0mrange\u001b[0m\u001b[0;34m(\u001b[0m\u001b[0mn\u001b[0m\u001b[0;34m)\u001b[0m\u001b[0;34m]\u001b[0m\u001b[0;34m\u001b[0m\u001b[0;34m\u001b[0m\u001b[0m\n\u001b[0m\u001b[1;32m      6\u001b[0m         \u001b[0;32melse\u001b[0m\u001b[0;34m:\u001b[0m\u001b[0;34m\u001b[0m\u001b[0;34m\u001b[0m\u001b[0m\n\u001b[1;32m      7\u001b[0m             \u001b[0marr\u001b[0m \u001b[0;34m=\u001b[0m \u001b[0;34m[\u001b[0m\u001b[0mnp\u001b[0m\u001b[0;34m.\u001b[0m\u001b[0mrandom\u001b[0m\u001b[0;34m.\u001b[0m\u001b[0mrandint\u001b[0m\u001b[0;34m(\u001b[0m\u001b[0;36m0\u001b[0m\u001b[0;34m,\u001b[0m \u001b[0mn\u001b[0m\u001b[0;34m)\u001b[0m \u001b[0;32mfor\u001b[0m \u001b[0m_\u001b[0m \u001b[0;32min\u001b[0m \u001b[0mrange\u001b[0m\u001b[0;34m(\u001b[0m\u001b[0mn\u001b[0m\u001b[0;34m)\u001b[0m\u001b[0;34m]\u001b[0m\u001b[0;34m\u001b[0m\u001b[0;34m\u001b[0m\u001b[0m\n",
      "\u001b[0;32mmtrand.pyx\u001b[0m in \u001b[0;36mmtrand.RandomState.randint\u001b[0;34m()\u001b[0m\n",
      "\u001b[0;31mValueError\u001b[0m: high is out of bounds for int64"
     ]
    }
   ],
   "source": [
    "plt.plot(N, timeIt(N,2))"
   ]
  },
  {
   "cell_type": "code",
   "execution_count": 57,
   "metadata": {},
   "outputs": [
    {
     "name": "stdout",
     "output_type": "stream",
     "text": [
      "[373, 1499, 4758, 8386, 9452, 9986, 10098, 10832, 11980, 12846, 12904, 15802, 18223, 18774, 20207, 20332, 22199, 22917, 23228, 23327, 23425, 31796, 33332, 33921, 35877, 35940, 36623, 37736, 40297, 40623, 42440, 43327, 45360, 46487, 46492, 48004, 49956, 51060, 51935, 52032, 52065, 53839, 54148, 55277, 56546, 57695, 57802, 58037, 58506, 59330, 60634, 60773, 61369, 62104, 62453, 63086, 63611, 64537, 65267, 65474, 65498, 67211, 67288, 67836, 69617, 71611, 71946, 74418, 75066, 75619, 75938, 76066, 76356, 76428, 76811, 77505, 78511, 79166, 80262, 81107, 81329, 81688, 82779, 82839, 83390, 84662, 87997, 88066, 89225, 89486, 91092, 91310, 91624, 91890, 93855, 95579, 96032, 97546, 97828, 99871]\n"
     ]
    }
   ],
   "source": [
    "from math import log10\n",
    "from random import randint\n",
    "\n",
    "def get_digit(number, base, pos):\n",
    "  return (number // base ** pos) % base\n",
    "\n",
    "def prefix_sum(array):\n",
    "  for i in range(1, len(array)):\n",
    "    array[i] = array[i] + array[i-1]\n",
    "  return array\n",
    "\n",
    "def radixsort(l, base=10):\n",
    "  passes = int(log10(max(l))+1)\n",
    "  output = [0] * len(l)\n",
    "\n",
    "  for pos in range(passes):\n",
    "    count = [0] * base\n",
    "\n",
    "    for i in l:\n",
    "      digit = get_digit(i, base, pos)\n",
    "      count[digit] +=1\n",
    "\n",
    "    count = prefix_sum(count)\n",
    "\n",
    "    for i in reversed(l):\n",
    "      digit = get_digit(i, base, pos)\n",
    "      count[digit] -= 1\n",
    "      new_pos = count[digit]\n",
    "      output[new_pos] = i\n",
    "\n",
    "    l = list(output)\n",
    "  return output\n",
    "\n",
    "l = [ randint(1, 99999) for x in range(100) ]\n",
    "sortedX = radixsort(l)\n",
    "print(sortedX)"
   ]
  },
  {
   "cell_type": "code",
   "execution_count": null,
   "metadata": {},
   "outputs": [],
   "source": []
  },
  {
   "cell_type": "code",
   "execution_count": 92,
   "metadata": {},
   "outputs": [],
   "source": [
    "def get_digit(n, d):\n",
    "  for i in range(d-1):\n",
    "    n //= 2\n",
    "  return n % 10\n",
    "\n",
    "def get_num_difit(n):\n",
    "  i = 0\n",
    "  while n > 0:\n",
    "    n //= 10\n",
    "    i += 1\n",
    "  return i\n",
    "\n",
    "def radix_sort(arr, max_value):\n",
    "  num_digits = get_num_difit(max_value)\n",
    "  # O(k(n+k))\n",
    "  for d in range(num_digits):\n",
    "    # Counting sort takes O(n+k)\n",
    "    arr = counting_sort(arr, max_value, lambda a: get_digit(a, d+1))\n",
    "  return arr"
   ]
  },
  {
   "cell_type": "code",
   "execution_count": null,
   "metadata": {},
   "outputs": [],
   "source": []
  }
 ],
 "metadata": {
  "kernelspec": {
   "display_name": "Python 3",
   "language": "python",
   "name": "python3"
  },
  "language_info": {
   "codemirror_mode": {
    "name": "ipython",
    "version": 3
   },
   "file_extension": ".py",
   "mimetype": "text/x-python",
   "name": "python",
   "nbconvert_exporter": "python",
   "pygments_lexer": "ipython3",
   "version": "3.7.5"
  }
 },
 "nbformat": 4,
 "nbformat_minor": 2
}
